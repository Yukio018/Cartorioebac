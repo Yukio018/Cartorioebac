{
  "nbformat": 4,
  "nbformat_minor": 0,
  "metadata": {
    "colab": {
      "provenance": [],
      "toc_visible": true,
      "include_colab_link": true
    },
    "kernelspec": {
      "name": "python3",
      "display_name": "Python 3"
    }
  },
  "cells": [
    {
      "cell_type": "markdown",
      "metadata": {
        "id": "view-in-github",
        "colab_type": "text"
      },
      "source": [
        "<a href=\"https://colab.research.google.com/github/Yukio018/Cartorioebac/blob/main/Profissao_Analista_de_dados_M2_Exercicio.ipynb\" target=\"_parent\"><img src=\"https://colab.research.google.com/assets/colab-badge.svg\" alt=\"Open In Colab\"/></a>"
      ]
    },
    {
      "cell_type": "markdown",
      "metadata": {
        "id": "KJqp9AANOCtf"
      },
      "source": [
        "<img src=\"https://raw.githubusercontent.com/andre-marcos-perez/ebac-course-utils/main/media/logo/newebac_logo_black_half.png\" alt=\"ebac-logo\">\n",
        "\n",
        "---\n",
        "\n",
        "# **Módulo** | Python: Estruturas de Dados\n",
        "Caderno de **Exercícios**<br>\n",
        "Professor [André Perez](https://www.linkedin.com/in/andremarcosperez/)\n",
        "\n",
        "---"
      ]
    },
    {
      "cell_type": "markdown",
      "metadata": {
        "id": "d9jDtUbDOE1-"
      },
      "source": [
        "# **Tópicos**\n",
        "\n",
        "<ol type=\"1\">\n",
        "  <li>Listas;</li>\n",
        "  <li>Conjuntos;</li>\n",
        "  <li>Dicionários.</li>\n",
        "</ol>"
      ]
    },
    {
      "cell_type": "markdown",
      "metadata": {
        "id": "SmoHgt-lwkpD"
      },
      "source": [
        "---"
      ]
    },
    {
      "cell_type": "markdown",
      "metadata": {
        "id": "GABI6OW8OfQ2"
      },
      "source": [
        "# **Exercícios**"
      ]
    },
    {
      "cell_type": "markdown",
      "metadata": {
        "id": "muD1vxozykSC"
      },
      "source": [
        "## 1\\. Listas"
      ]
    },
    {
      "cell_type": "markdown",
      "metadata": {
        "id": "ahrFfCuBxJKs"
      },
      "source": [
        "Criei uma lista chamada `filmes` com o nome dos 10 primeiros filmes mais bem avaliados no site no [IMDB](https://www.imdb.com/chart/top/). Imprima o resultado."
      ]
    },
    {
      "cell_type": "code",
      "metadata": {
        "id": "OgL6Hv3bzOHI",
        "colab": {
          "base_uri": "https://localhost:8080/"
        },
        "outputId": "5a318912-0c8d-487d-de0e-126f89c5c389"
      },
      "source": [
        "filmes = ['Um sonho de liberdade', 'O poderoso chefão', 'Batman: o cavaleiro das trevas', 'O poderoso chefão II','12 homens e uma sentença','A lista de Schindler','O senhor dos anéis: O retorno do rei','Pulp fiction: Tempo de violência','O senhor dos anéis: A sociedade do anel','Três homens em conflito']\n",
        "\n",
        "print(filmes)"
      ],
      "execution_count": 11,
      "outputs": [
        {
          "output_type": "stream",
          "name": "stdout",
          "text": [
            "['Um sonho de liberdade', 'O poderoso chefão', 'Batman: o cavaleiro das trevas', 'O poderoso chefão II', '12 homens e uma sentença', 'A lista de Schindler', 'O senhor dos anéis: O retorno do rei', 'Pulp fiction: Tempo de violência', 'O senhor dos anéis: A sociedade do anel', 'Três homens em conflito']\n"
          ]
        }
      ]
    },
    {
      "cell_type": "markdown",
      "metadata": {
        "id": "KI9zQRT2xa7m"
      },
      "source": [
        "Simule a movimentação do *ranking*. Utilize os métodos `insert` e `pop` para trocar a posição do primeiro e do segundo filme da lista. Imprima o resultado.\n",
        "\n"
      ]
    },
    {
      "cell_type": "code",
      "metadata": {
        "id": "zX3mA3_GzrXH",
        "colab": {
          "base_uri": "https://localhost:8080/"
        },
        "outputId": "10f478c8-0ac9-4088-9066-fac435fb3149"
      },
      "source": [
        "filmes.insert(0, 'O poderoso chefão')\n",
        "print (filmes)\n",
        "\n",
        "filmes_nova = filmes.pop(2)\n",
        "\n",
        "print(filmes)"
      ],
      "execution_count": 12,
      "outputs": [
        {
          "output_type": "stream",
          "name": "stdout",
          "text": [
            "['O poderoso chefão', 'Um sonho de liberdade', 'O poderoso chefão', 'Batman: o cavaleiro das trevas', 'O poderoso chefão II', '12 homens e uma sentença', 'A lista de Schindler', 'O senhor dos anéis: O retorno do rei', 'Pulp fiction: Tempo de violência', 'O senhor dos anéis: A sociedade do anel', 'Três homens em conflito']\n",
            "['O poderoso chefão', 'Um sonho de liberdade', 'Batman: o cavaleiro das trevas', 'O poderoso chefão II', '12 homens e uma sentença', 'A lista de Schindler', 'O senhor dos anéis: O retorno do rei', 'Pulp fiction: Tempo de violência', 'O senhor dos anéis: A sociedade do anel', 'Três homens em conflito']\n"
          ]
        }
      ]
    },
    {
      "cell_type": "markdown",
      "metadata": {
        "id": "zMN1Q3jdwoJm"
      },
      "source": [
        "---"
      ]
    },
    {
      "cell_type": "markdown",
      "metadata": {
        "id": "lxa5L6uF0ZJE"
      },
      "source": [
        "## 2\\. Conjuntos"
      ]
    },
    {
      "cell_type": "markdown",
      "metadata": {
        "id": "9JahS2Kj0d5u"
      },
      "source": [
        "Aconteceu um erro no seu *ranking*. Simule a duplicação dos três últimos filmes da lista. Imprima o resultado."
      ]
    },
    {
      "cell_type": "code",
      "metadata": {
        "id": "BnjnLBNC6PGe",
        "colab": {
          "base_uri": "https://localhost:8080/"
        },
        "outputId": "995f34b3-f444-4f4b-d3a8-e97467f083f8"
      },
      "source": [
        "filmes = ['Um sonho de liberdade', 'O poderoso chefão', 'Batman: o cavaleiro das trevas', 'O poderoso chefão II','12 homens e uma sentença','A lista de Schindler','O senhor dos anéis: O retorno do rei','Pulp fiction: Tempo de violência','O senhor dos anéis: A sociedade do anel','Três homens em conflito','Pulp fiction: Tempo de violência','O senhor dos anéis: A sociedade do anel','Três homens em conflito']\n",
        "print(filmes)\n",
        "print(len(filmes))"
      ],
      "execution_count": 15,
      "outputs": [
        {
          "output_type": "stream",
          "name": "stdout",
          "text": [
            "['Um sonho de liberdade', 'O poderoso chefão', 'Batman: o cavaleiro das trevas', 'O poderoso chefão II', '12 homens e uma sentença', 'A lista de Schindler', 'O senhor dos anéis: O retorno do rei', 'Pulp fiction: Tempo de violência', 'O senhor dos anéis: A sociedade do anel', 'Três homens em conflito', 'Pulp fiction: Tempo de violência', 'O senhor dos anéis: A sociedade do anel', 'Três homens em conflito']\n",
            "13\n"
          ]
        }
      ]
    },
    {
      "cell_type": "markdown",
      "metadata": {
        "id": "suxTfCJB6ZiX"
      },
      "source": [
        "Utiliza a conversão `set` e `list` para remover os valores duplicados. Imprima o resultado."
      ]
    },
    {
      "cell_type": "code",
      "metadata": {
        "id": "ZvUGN-0n6joM",
        "colab": {
          "base_uri": "https://localhost:8080/"
        },
        "outputId": "bcbfe71e-43cb-4f6e-9576-8224075379ca"
      },
      "source": [
        "filmes = list(set(filmes))\n",
        "print(filmes)\n",
        "print(len(filmes))"
      ],
      "execution_count": 16,
      "outputs": [
        {
          "output_type": "stream",
          "name": "stdout",
          "text": [
            "['O poderoso chefão', 'Um sonho de liberdade', 'O senhor dos anéis: A sociedade do anel', 'Três homens em conflito', '12 homens e uma sentença', 'Batman: o cavaleiro das trevas', 'O poderoso chefão II', 'Pulp fiction: Tempo de violência', 'A lista de Schindler', 'O senhor dos anéis: O retorno do rei']\n",
            "10\n"
          ]
        }
      ]
    },
    {
      "cell_type": "markdown",
      "metadata": {
        "id": "ShkK35eQ6pAM"
      },
      "source": [
        "---"
      ]
    },
    {
      "cell_type": "markdown",
      "metadata": {
        "id": "EL_FzmxL6rTv"
      },
      "source": [
        "## 3\\. Dicionários"
      ]
    },
    {
      "cell_type": "markdown",
      "metadata": {
        "id": "i8l0gFqRCpfT"
      },
      "source": [
        "Repita os exercícios da parte 1 (listas). Os elementos da lista `filmes` devem ser dicionários no seguinte formato: `{'nome': <nome-do-filme>, 'ano': <ano do filme>, 'sinopse': <sinopse do filme>}`."
      ]
    },
    {
      "cell_type": "code",
      "metadata": {
        "id": "tu6MSFwGDnHv",
        "colab": {
          "base_uri": "https://localhost:8080/"
        },
        "outputId": "e16516ee-3d32-4eae-c64f-f5275da35e4b"
      },
      "source": [
        "filme_dic = []\n",
        "\n",
        "filmes = {\n",
        "    'nome': 'Um sonho de liberdade',\n",
        "    'ano': '1994',\n",
        "    'sinopse':'Dois homens presos se reúnem ao longo de vários anos, encontrando consolo e eventual redenção através de atos de decência comum.'\n",
        "}\n",
        "\n",
        "\n",
        "filmes = {\n",
        "    'nome': 'O poderoso chefão',\n",
        "    'ano': '1972',\n",
        "    'sinopse':'O patriarca idoso de uma dinastia do crime organizado transfere o controle de seu império clandestino para seu filho relutante.'\n",
        "}\n",
        "filme_dic.append(filmes)\n",
        "\n",
        "\n",
        "filmes ={\n",
        "    'nome': 'Batman: O cavaleiro das trevas',\n",
        "    'ano':'2008',\n",
        "    'sinopse':'When the menace known as the Joker wreaks havoc and chaos on the people of Gotham, Batman must accept one of the greatest psychological and physical tests of his ability to fight injustice.'\n",
        "}\n",
        "filme_dic.append(filmes)\n",
        "\n",
        "\n",
        "filmes ={\n",
        "    'nome':'O poderoso chefão II',\n",
        "    'ano':'1974',\n",
        "    'sinopse':'The early life and career of Vito Corleone in 1920s New York City is portrayed, while his son, Michael, expands and tightens his grip on the family crime syndicate.'\n",
        "}\n",
        "filme_dic.append(filmes)\n",
        "\n",
        "\n",
        "filmes ={\n",
        "    'nome':'12 Homens e uma sentença',\n",
        "    'ano':'1957',\n",
        "    'sinopse':'O julgamento de um assassinato em Nova Iorque é frustrado por um único membro, cujo ceticismo força o júri a considerar cuidadosamente as evidências antes de dar o veredito.'\n",
        "}\n",
        "filme_dic.append(filmes)\n",
        "\n",
        "\n",
        "filmes ={\n",
        "    'nome':'A Lista de Schindler ',\n",
        "    'ano':'1993',\n",
        "    'sinopse':'In German-occupied Poland during World War II, industrialist Oskar Schindler gradually becomes concerned for his Jewish workforce after witnessing their persecution by the Nazis.'\n",
        "}\n",
        "filme_dic.append(filmes)\n",
        "\n",
        "\n",
        "filmes ={\n",
        "    'nome':'O Senhor dos Anéis: O Retorno do Rei',\n",
        "    'ano':'2003',\n",
        "    'sinopse':'Gandalf e Aragorn lideram o Mundo dos Homens contra o exército de Sauron para desviar o olhar de Frodo e Sam quando eles se aproximam á Montanha da Perdição com o Um Anel.'\n",
        "}\n",
        "filme_dic.append(filmes)\n",
        "\n",
        "\n",
        "filmes ={\n",
        "    'nome':'Pulp Fiction: Tempo de Violência',\n",
        "    'ano':'1994',\n",
        "    'sinopse':'As vidas de dois assassinos da máfia, um boxeador, um gângster e sua esposa, e um par de bandidos se entrelaçam em quatro histórias de violência e redenção.'\n",
        "}\n",
        "filme_dic.append(filmes)\n",
        "\n",
        "\n",
        "filmes ={\n",
        "    'nome':'O Senhor dos Anéis: A Sociedade do Anel',\n",
        "    'ano':'2001',\n",
        "    'sinopse':'Um manso hobbit do Condado e oito companheiros partem em uma jornada para destruir o poderoso Um Anel e salvar a Terra-média das Trevas.'\n",
        "}\n",
        "filme_dic.append(filmes)\n",
        "\n",
        "\n",
        "filmes ={\n",
        "    'nome':'Três Homens em Conflito',\n",
        "    'ano':'1966',\n",
        "    'sinopse':'Um impostor se junta com dois homens para encontrar fortuna num remoto cemitério.'\n",
        "}\n",
        "filme_dic.append(filmes)\n",
        "\n",
        "print(filme_dic)"
      ],
      "execution_count": 19,
      "outputs": [
        {
          "output_type": "stream",
          "name": "stdout",
          "text": [
            "[{'nome': 'O poderoso chefão', 'ano': '1972', 'sinopse': 'O patriarca idoso de uma dinastia do crime organizado transfere o controle de seu império clandestino para seu filho relutante.'}, {'nome': 'Batman: O cavaleiro das trevas', 'ano': '2008', 'sinopse': 'When the menace known as the Joker wreaks havoc and chaos on the people of Gotham, Batman must accept one of the greatest psychological and physical tests of his ability to fight injustice.'}, {'nome': 'O poderoso chefão II', 'ano': '1974', 'sinopse': 'The early life and career of Vito Corleone in 1920s New York City is portrayed, while his son, Michael, expands and tightens his grip on the family crime syndicate.'}, {'nome': '12 Homens e uma sentença', 'ano': '1957', 'sinopse': 'O julgamento de um assassinato em Nova Iorque é frustrado por um único membro, cujo ceticismo força o júri a considerar cuidadosamente as evidências antes de dar o veredito.'}, {'nome': 'A Lista de Schindler ', 'ano': '1993', 'sinopse': 'In German-occupied Poland during World War II, industrialist Oskar Schindler gradually becomes concerned for his Jewish workforce after witnessing their persecution by the Nazis.'}, {'nome': 'O Senhor dos Anéis: O Retorno do Rei', 'ano': '2003', 'sinopse': 'Gandalf e Aragorn lideram o Mundo dos Homens contra o exército de Sauron para desviar o olhar de Frodo e Sam quando eles se aproximam á Montanha da Perdição com o Um Anel.'}, {'nome': 'Pulp Fiction: Tempo de Violência', 'ano': '1994', 'sinopse': 'As vidas de dois assassinos da máfia, um boxeador, um gângster e sua esposa, e um par de bandidos se entrelaçam em quatro histórias de violência e redenção.'}, {'nome': 'O Senhor dos Anéis: A Sociedade do Anel', 'ano': '2001', 'sinopse': 'Um manso hobbit do Condado e oito companheiros partem em uma jornada para destruir o poderoso Um Anel e salvar a Terra-média das Trevas.'}, {'nome': 'Três Homens em Conflito', 'ano': '1966', 'sinopse': 'Um impostor se junta com dois homens para encontrar fortuna num remoto cemitério.'}]\n"
          ]
        }
      ]
    }
  ]
}